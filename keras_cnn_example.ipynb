{
 "cells": [
  {
   "cell_type": "code",
   "execution_count": 1,
   "metadata": {},
   "outputs": [
    {
     "name": "stderr",
     "output_type": "stream",
     "text": [
      "Using TensorFlow backend.\n"
     ]
    }
   ],
   "source": [
    "# MNIST data 로드하기\n",
    "from keras.datasets import mnist\n",
    "\n",
    "(x_train, y_train), (x_test, y_test) = mnist.load_data()"
   ]
  },
  {
   "cell_type": "code",
   "execution_count": 2,
   "metadata": {},
   "outputs": [
    {
     "name": "stdout",
     "output_type": "stream",
     "text": [
      "(60000, 28, 28) (60000,)\n",
      "(10000, 28, 28) (10000,)\n"
     ]
    }
   ],
   "source": [
    "print (x_train.shape, y_train.shape)\n",
    "print (x_test.shape, y_test.shape)"
   ]
  },
  {
   "cell_type": "code",
   "execution_count": 3,
   "metadata": {},
   "outputs": [
    {
     "name": "stdout",
     "output_type": "stream",
     "text": [
      "0 255\n",
      "0 255\n"
     ]
    }
   ],
   "source": [
    "# Normalization\n",
    "import numpy as np\n",
    "print (np.min(x_train), np.max(x_train))\n",
    "print (np.min(x_test), np.max(x_test))"
   ]
  },
  {
   "cell_type": "code",
   "execution_count": 4,
   "metadata": {},
   "outputs": [
    {
     "name": "stdout",
     "output_type": "stream",
     "text": [
      "0.0 1.0\n",
      "0.0 1.0\n"
     ]
    }
   ],
   "source": [
    "x_tr = x_train / 255.\n",
    "x_te = x_test / 255.\n",
    "\n",
    "print (np.min(x_tr), np.max(x_tr))\n",
    "print (np.min(x_te), np.max(x_te))"
   ]
  },
  {
   "cell_type": "code",
   "execution_count": 5,
   "metadata": {},
   "outputs": [
    {
     "name": "stdout",
     "output_type": "stream",
     "text": [
      "(60000, 28, 28)\n",
      "(10000, 28, 28)\n"
     ]
    }
   ],
   "source": [
    "# 2D data -> (N, H, W, C)\n",
    "print (x_tr.shape)\n",
    "print (x_te.shape)"
   ]
  },
  {
   "cell_type": "code",
   "execution_count": 6,
   "metadata": {},
   "outputs": [
    {
     "name": "stdout",
     "output_type": "stream",
     "text": [
      "(60000, 28, 28, 1)\n",
      "(10000, 28, 28, 1)\n"
     ]
    }
   ],
   "source": [
    "x_tr = x_tr.reshape(x_tr.shape[0], x_tr.shape[1], x_tr.shape[2], 1)\n",
    "x_te = x_te.reshape(x_te.shape[0], x_te.shape[1], x_te.shape[2], 1)\n",
    "\n",
    "print (x_tr.shape)\n",
    "print (x_te.shape)"
   ]
  },
  {
   "cell_type": "code",
   "execution_count": 7,
   "metadata": {},
   "outputs": [
    {
     "name": "stdout",
     "output_type": "stream",
     "text": [
      "(60000,) (10000,)\n"
     ]
    }
   ],
   "source": [
    "# label => one-hot vector\n",
    "print (y_train.shape, y_test.shape)"
   ]
  },
  {
   "cell_type": "code",
   "execution_count": 8,
   "metadata": {},
   "outputs": [
    {
     "name": "stdout",
     "output_type": "stream",
     "text": [
      "(60000, 10) (10000, 10)\n"
     ]
    }
   ],
   "source": [
    "from keras.utils import to_categorical\n",
    "\n",
    "y_tr = to_categorical(y_train)\n",
    "y_te = to_categorical(y_test)\n",
    "\n",
    "print (y_tr.shape, y_te.shape)"
   ]
  },
  {
   "cell_type": "code",
   "execution_count": 11,
   "metadata": {},
   "outputs": [],
   "source": [
    "# FCN Model 생성하기\n",
    "\n",
    "from keras.models import Sequential\n",
    "from keras.layers import Conv2D, Activation, Dense, MaxPooling2D, Flatten\n",
    "\n",
    "input_shape = x_tr.shape[1:]\n",
    "\n",
    "model = Sequential()\n",
    "\n",
    "model.add(Conv2D(filters = 1024, kernel_size = (3,3), strides=(1, 1), \n",
    "                 padding='same', input_shape=input_shape))\n",
    "model.add(Activation('relu'))\n",
    "model.add(MaxPooling2D(pool_size=(2, 2)))\n",
    "model.add(Flatten())\n",
    "model.add(Dense(units=10, activation='softmax'))\n",
    "\n",
    "model.compile(loss='categorical_crossentropy', optimizer='adam',\n",
    "              metrics=['accuracy'])"
   ]
  },
  {
   "cell_type": "code",
   "execution_count": 12,
   "metadata": {
    "scrolled": false
   },
   "outputs": [
    {
     "name": "stdout",
     "output_type": "stream",
     "text": [
      "Train on 60000 samples, validate on 10000 samples\n",
      "Epoch 1/10\n",
      "60000/60000 [==============================] - 19s 325us/step - loss: 0.2103 - acc: 0.9386 - val_loss: 0.0753 - val_acc: 0.9752\n",
      "Epoch 2/10\n",
      "60000/60000 [==============================] - 11s 191us/step - loss: 0.0658 - acc: 0.9805 - val_loss: 0.0557 - val_acc: 0.9821\n",
      "Epoch 3/10\n",
      "60000/60000 [==============================] - 11s 190us/step - loss: 0.0477 - acc: 0.9860 - val_loss: 0.0608 - val_acc: 0.9807\n",
      "Epoch 4/10\n",
      "60000/60000 [==============================] - 11s 190us/step - loss: 0.0392 - acc: 0.9880 - val_loss: 0.0581 - val_acc: 0.9813\n",
      "Epoch 5/10\n",
      "60000/60000 [==============================] - 11s 190us/step - loss: 0.0314 - acc: 0.9903 - val_loss: 0.0497 - val_acc: 0.9847\n",
      "Epoch 6/10\n",
      "60000/60000 [==============================] - 11s 190us/step - loss: 0.0238 - acc: 0.9929 - val_loss: 0.0555 - val_acc: 0.9836\n",
      "Epoch 7/10\n",
      "60000/60000 [==============================] - 11s 191us/step - loss: 0.0216 - acc: 0.9932 - val_loss: 0.0545 - val_acc: 0.9841\n",
      "Epoch 8/10\n",
      "60000/60000 [==============================] - 11s 187us/step - loss: 0.0159 - acc: 0.9952 - val_loss: 0.0584 - val_acc: 0.9837\n",
      "Epoch 9/10\n",
      "60000/60000 [==============================] - 11s 190us/step - loss: 0.0138 - acc: 0.9956 - val_loss: 0.0574 - val_acc: 0.9837\n",
      "Epoch 10/10\n",
      "60000/60000 [==============================] - 11s 190us/step - loss: 0.0109 - acc: 0.9968 - val_loss: 0.0603 - val_acc: 0.9841\n"
     ]
    },
    {
     "data": {
      "text/plain": [
       "<keras.callbacks.History at 0x7f49f0e438d0>"
      ]
     },
     "execution_count": 12,
     "metadata": {},
     "output_type": "execute_result"
    }
   ],
   "source": [
    "# FCN Model training\n",
    "\n",
    "model.fit(x_tr, y_tr, validation_data=(x_te, y_te), epochs=10, batch_size=256)"
   ]
  },
  {
   "cell_type": "code",
   "execution_count": null,
   "metadata": {},
   "outputs": [],
   "source": []
  }
 ],
 "metadata": {
  "kernelspec": {
   "display_name": "Python 3",
   "language": "python",
   "name": "python3"
  },
  "language_info": {
   "codemirror_mode": {
    "name": "ipython",
    "version": 3
   },
   "file_extension": ".py",
   "mimetype": "text/x-python",
   "name": "python",
   "nbconvert_exporter": "python",
   "pygments_lexer": "ipython3",
   "version": "3.6.5"
  }
 },
 "nbformat": 4,
 "nbformat_minor": 2
}
